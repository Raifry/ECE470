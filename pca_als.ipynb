{
 "cells": [
  {
   "cell_type": "code",
   "execution_count": 1,
   "id": "96485f13",
   "metadata": {},
   "outputs": [],
   "source": [
    "import pandas as pd\n",
    "import numpy as np\n",
    "import random\n",
    "from sklearn.model_selection import train_test_split\n",
    "from sklearn.metrics import f1_score\n",
    "from sklearn.metrics import precision_score\n",
    "from sklearn.metrics import recall_score\n",
    "from sklearn.metrics import fbeta_score\n",
    "import matplotlib.pyplot as plt\n",
    "from tqdm import tqdm"
   ]
  },
  {
   "cell_type": "code",
   "execution_count": 2,
   "id": "f1aa56a0",
   "metadata": {},
   "outputs": [
    {
     "data": {
      "text/html": [
       "<div>\n",
       "<style scoped>\n",
       "    .dataframe tbody tr th:only-of-type {\n",
       "        vertical-align: middle;\n",
       "    }\n",
       "\n",
       "    .dataframe tbody tr th {\n",
       "        vertical-align: top;\n",
       "    }\n",
       "\n",
       "    .dataframe thead th {\n",
       "        text-align: right;\n",
       "    }\n",
       "</style>\n",
       "<table border=\"1\" class=\"dataframe\">\n",
       "  <thead>\n",
       "    <tr style=\"text-align: right;\">\n",
       "      <th></th>\n",
       "      <th>Age (years)</th>\n",
       "      <th>meanF0Hz_A</th>\n",
       "      <th>stdevF0Hz_A</th>\n",
       "      <th>HNR_A</th>\n",
       "      <th>localJitter_A</th>\n",
       "      <th>localShimmer_A</th>\n",
       "      <th>meanF0Hz_E</th>\n",
       "      <th>stdevF0Hz_E</th>\n",
       "      <th>HNR_E</th>\n",
       "      <th>localJitter_E</th>\n",
       "      <th>...</th>\n",
       "      <th>localShimmer_reading</th>\n",
       "      <th>meanF0Hz_weekdays</th>\n",
       "      <th>stdevF0Hz_weekdays</th>\n",
       "      <th>HNR_weekdays</th>\n",
       "      <th>localJitter_weekdays</th>\n",
       "      <th>localShimmer_weekdays</th>\n",
       "      <th>Cantagallo_Questionnaire</th>\n",
       "      <th>Category</th>\n",
       "      <th>gender_male</th>\n",
       "      <th>gender_female</th>\n",
       "    </tr>\n",
       "  </thead>\n",
       "  <tbody>\n",
       "    <tr>\n",
       "      <th>1</th>\n",
       "      <td>-0.596545</td>\n",
       "      <td>0.780900</td>\n",
       "      <td>-0.854556</td>\n",
       "      <td>0.112354</td>\n",
       "      <td>-0.586274</td>\n",
       "      <td>1.340078</td>\n",
       "      <td>0.864894</td>\n",
       "      <td>-0.639528</td>\n",
       "      <td>-0.397213</td>\n",
       "      <td>-0.497281</td>\n",
       "      <td>...</td>\n",
       "      <td>0.251266</td>\n",
       "      <td>0.526677</td>\n",
       "      <td>-0.498159</td>\n",
       "      <td>0.134135</td>\n",
       "      <td>-0.752233</td>\n",
       "      <td>0.237306</td>\n",
       "      <td>-0.712214</td>\n",
       "      <td>False</td>\n",
       "      <td>0</td>\n",
       "      <td>1</td>\n",
       "    </tr>\n",
       "    <tr>\n",
       "      <th>2</th>\n",
       "      <td>0.799575</td>\n",
       "      <td>0.943590</td>\n",
       "      <td>-0.677661</td>\n",
       "      <td>1.474616</td>\n",
       "      <td>-0.658861</td>\n",
       "      <td>-0.793134</td>\n",
       "      <td>0.814170</td>\n",
       "      <td>-0.546830</td>\n",
       "      <td>1.355740</td>\n",
       "      <td>-0.601093</td>\n",
       "      <td>...</td>\n",
       "      <td>-1.561406</td>\n",
       "      <td>1.257791</td>\n",
       "      <td>0.343883</td>\n",
       "      <td>1.970252</td>\n",
       "      <td>-1.514839</td>\n",
       "      <td>-1.727805</td>\n",
       "      <td>-0.944415</td>\n",
       "      <td>False</td>\n",
       "      <td>0</td>\n",
       "      <td>1</td>\n",
       "    </tr>\n",
       "    <tr>\n",
       "      <th>3</th>\n",
       "      <td>-0.247515</td>\n",
       "      <td>-0.245186</td>\n",
       "      <td>-0.674186</td>\n",
       "      <td>-0.648526</td>\n",
       "      <td>-0.186461</td>\n",
       "      <td>-0.562193</td>\n",
       "      <td>-0.738366</td>\n",
       "      <td>-0.406278</td>\n",
       "      <td>-2.032928</td>\n",
       "      <td>1.909601</td>\n",
       "      <td>...</td>\n",
       "      <td>-0.970929</td>\n",
       "      <td>-0.468445</td>\n",
       "      <td>-0.617694</td>\n",
       "      <td>0.757799</td>\n",
       "      <td>-0.149436</td>\n",
       "      <td>-0.801535</td>\n",
       "      <td>-0.214640</td>\n",
       "      <td>False</td>\n",
       "      <td>0</td>\n",
       "      <td>1</td>\n",
       "    </tr>\n",
       "    <tr>\n",
       "      <th>4</th>\n",
       "      <td>0.101515</td>\n",
       "      <td>1.049131</td>\n",
       "      <td>0.518163</td>\n",
       "      <td>0.449962</td>\n",
       "      <td>-0.464083</td>\n",
       "      <td>0.167784</td>\n",
       "      <td>0.425198</td>\n",
       "      <td>1.272075</td>\n",
       "      <td>0.532107</td>\n",
       "      <td>-0.530237</td>\n",
       "      <td>...</td>\n",
       "      <td>0.276340</td>\n",
       "      <td>1.279800</td>\n",
       "      <td>-0.446608</td>\n",
       "      <td>0.232726</td>\n",
       "      <td>0.399517</td>\n",
       "      <td>0.587947</td>\n",
       "      <td>-0.546356</td>\n",
       "      <td>False</td>\n",
       "      <td>0</td>\n",
       "      <td>1</td>\n",
       "    </tr>\n",
       "    <tr>\n",
       "      <th>5</th>\n",
       "      <td>-0.073000</td>\n",
       "      <td>0.925208</td>\n",
       "      <td>0.064061</td>\n",
       "      <td>1.160927</td>\n",
       "      <td>-0.259407</td>\n",
       "      <td>-0.673165</td>\n",
       "      <td>1.179024</td>\n",
       "      <td>-0.737717</td>\n",
       "      <td>0.627439</td>\n",
       "      <td>-0.576983</td>\n",
       "      <td>...</td>\n",
       "      <td>-0.165096</td>\n",
       "      <td>0.961817</td>\n",
       "      <td>0.680624</td>\n",
       "      <td>-0.024464</td>\n",
       "      <td>0.637189</td>\n",
       "      <td>0.645913</td>\n",
       "      <td>-0.844900</td>\n",
       "      <td>False</td>\n",
       "      <td>0</td>\n",
       "      <td>1</td>\n",
       "    </tr>\n",
       "  </tbody>\n",
       "</table>\n",
       "<p>5 rows × 60 columns</p>\n",
       "</div>"
      ],
      "text/plain": [
       "   Age (years)  meanF0Hz_A  stdevF0Hz_A     HNR_A  localJitter_A  \\\n",
       "1    -0.596545    0.780900    -0.854556  0.112354      -0.586274   \n",
       "2     0.799575    0.943590    -0.677661  1.474616      -0.658861   \n",
       "3    -0.247515   -0.245186    -0.674186 -0.648526      -0.186461   \n",
       "4     0.101515    1.049131     0.518163  0.449962      -0.464083   \n",
       "5    -0.073000    0.925208     0.064061  1.160927      -0.259407   \n",
       "\n",
       "   localShimmer_A  meanF0Hz_E  stdevF0Hz_E     HNR_E  localJitter_E  ...  \\\n",
       "1        1.340078    0.864894    -0.639528 -0.397213      -0.497281  ...   \n",
       "2       -0.793134    0.814170    -0.546830  1.355740      -0.601093  ...   \n",
       "3       -0.562193   -0.738366    -0.406278 -2.032928       1.909601  ...   \n",
       "4        0.167784    0.425198     1.272075  0.532107      -0.530237  ...   \n",
       "5       -0.673165    1.179024    -0.737717  0.627439      -0.576983  ...   \n",
       "\n",
       "   localShimmer_reading  meanF0Hz_weekdays  stdevF0Hz_weekdays  HNR_weekdays  \\\n",
       "1              0.251266           0.526677           -0.498159      0.134135   \n",
       "2             -1.561406           1.257791            0.343883      1.970252   \n",
       "3             -0.970929          -0.468445           -0.617694      0.757799   \n",
       "4              0.276340           1.279800           -0.446608      0.232726   \n",
       "5             -0.165096           0.961817            0.680624     -0.024464   \n",
       "\n",
       "   localJitter_weekdays  localShimmer_weekdays  Cantagallo_Questionnaire  \\\n",
       "1             -0.752233               0.237306                 -0.712214   \n",
       "2             -1.514839              -1.727805                 -0.944415   \n",
       "3             -0.149436              -0.801535                 -0.214640   \n",
       "4              0.399517               0.587947                 -0.546356   \n",
       "5              0.637189               0.645913                 -0.844900   \n",
       "\n",
       "   Category  gender_male  gender_female  \n",
       "1     False            0              1  \n",
       "2     False            0              1  \n",
       "3     False            0              1  \n",
       "4     False            0              1  \n",
       "5     False            0              1  \n",
       "\n",
       "[5 rows x 60 columns]"
      ]
     },
     "execution_count": 2,
     "metadata": {},
     "output_type": "execute_result"
    }
   ],
   "source": [
    "import numpy as np\n",
    "import pandas as pd\n",
    "from sklearn.compose import ColumnTransformer\n",
    "from sklearn.preprocessing import StandardScaler\n",
    "from sklearn.pipeline import Pipeline\n",
    "\n",
    "def prep_data(df):\n",
    "    df = clean_data(df)\n",
    "    df = preprocess_data(df)\n",
    "    return df\n",
    "\n",
    "def clean_data(df):\n",
    "    \n",
    "    # set column names as first row\n",
    "    rename_map = dict([(old_name, new_name) for old_name, new_name in zip(df.axes[1], list(df.iloc[0]))])\n",
    "    df = df.rename(rename_map, axis=1)\n",
    "\n",
    "    # remove diagnostic/treatments stuff as no values for healthy participants and first row (which held the column names)\n",
    "    df = pd.concat([df.iloc[:,1:4], df.iloc[:,33:]], axis=1)[1:]\n",
    "\n",
    "    # Convert category (ALS or HC) to binary so don't have to predict a string lol\n",
    "    binary_target = df[\"Category\"] == \"ALS\"\n",
    "    df[\"Category\"] = binary_target\n",
    "\n",
    "    # One-hot encode gender\n",
    "    is_male = df[\"Sex\"] == \"M\"\n",
    "    df[\"gender_male\"] = is_male.astype(int)\n",
    "    df[\"gender_female\"] = 1 - is_male\n",
    "    df = df.drop(columns=\"Sex\")\n",
    "\n",
    "    return df\n",
    "\n",
    "def preprocess_data(df):\n",
    "\n",
    "    # numeric features that need standardizing\n",
    "    numeric_features = [\"Age (years)\", \"meanF0Hz_A\", \"stdevF0Hz_A\", \"HNR_A\", \"localJitter_A\", \"localShimmer_A\", \"meanF0Hz_E\", \"stdevF0Hz_E\", \"HNR_E\", \"localJitter_E\", \"localShimmer_E\", \"meanF0Hz_I\", \"stdevF0Hz_I\", \"HNR_I\", \"localJitter_I\", \"localShimmer_I\", \"meanF0Hz_O\", \"stdevF0Hz_O\", \"HNR_O\", \"localJitter_O\", \"localShimmer_O\", \"meanF0Hz_U\", \"stdevF0Hz_U\", \"HNR_U\", \"localJitter_U\", \"localShimmer_U\", \"meanF0Hz_PA\", \"stdevF0Hz_PA\", \"HNR_PA\", \"localJitter_PA\", \"localShimmer_PA\", \"meanF0Hz_TA\", \"stdevF0Hz_TA\", \"HNR_TA\", \"localJitter_TA\", \"localShimmer_TA\", \"meanF0Hz_KA\", \"stdevF0Hz_KA\", \"HNR_KA\", \"localJitter_KA\", \"localShimmer_KA\", \"meanF0Hz_monologue\", \"stdevF0Hz_monologue\", \"HNR_monologue\", \"localJitter_monologue\", \"localShimmer_monologue\", \"meanF0Hz_reading\", \"stdevF0Hz_reading\", \"HNR_reading\", \"localJitter_reading\", \"localShimmer_reading\", \"meanF0Hz_weekdays\", \"stdevF0Hz_weekdays\", \"HNR_weekdays\", \"localJitter_weekdays\", \"localShimmer_weekdays\", \"Cantagallo_Questionnaire\"]  # numerical columns\n",
    "    onehot_features = [\"Category\", 'gender_male', 'gender_female'] # no touchy\n",
    "\n",
    "    # standardize numeric features (not ALS diagnosis, or one hot encoded gender)\n",
    "    preprocessor = ColumnTransformer(\n",
    "        transformers=[\n",
    "            ('num', StandardScaler(), numeric_features),\n",
    "            ('cat', 'passthrough', onehot_features)  # passthrough = no touchy\n",
    "        ]\n",
    "    )\n",
    "\n",
    "    p = Pipeline(steps=[\n",
    "        ('preprocessor', preprocessor)])\n",
    "\n",
    "    scaled_data = p.fit_transform(df)\n",
    "\n",
    "    # Convert back to DataFrame\n",
    "    all_feature_names = numeric_features + onehot_features\n",
    "    df = pd.DataFrame(scaled_data, columns=all_feature_names, index=df.index)\n",
    "\n",
    "    # Make everything numeric\n",
    "    for name in df.columns:\n",
    "        df[name] = pd.to_numeric(df[name], errors='coerce')\n",
    "\n",
    "    return df\n",
    "\n",
    "df = prep_data(pd.read_excel('VOC-ALS.xlsx'))\n",
    "df.head()"
   ]
  },
  {
   "cell_type": "code",
   "execution_count": 3,
   "id": "a29c1da8",
   "metadata": {},
   "outputs": [],
   "source": [
    "# Split data into training, testing, and validation sets with a 60/20/20 split\n",
    "train_set, test_set = train_test_split(df, test_size=0.4, random_state=42)\n",
    "test_set, val_set = train_test_split(test_set, test_size=0.5, random_state=42)\n",
    "\n",
    "train_X = train_set.drop(columns=\"Category\")\n",
    "train_y = train_set[\"Category\"]\n",
    "\n",
    "test_X = test_set.drop(columns=\"Category\")\n",
    "test_y = test_set[\"Category\"]\n",
    "\n",
    "val_X = val_set.drop(columns=\"Category\")\n",
    "val_y = val_set[\"Category\"]"
   ]
  },
  {
   "cell_type": "code",
   "execution_count": 11,
   "id": "7fedf6b4",
   "metadata": {},
   "outputs": [
    {
     "data": {
      "text/plain": [
       "Text(0, 0.5, 'Explained Variance')"
      ]
     },
     "execution_count": 11,
     "metadata": {},
     "output_type": "execute_result"
    },
    {
     "data": {
      "image/png": "[encoded data removed]",
      "text/plain": [
       "<Figure size 640x480 with 1 Axes>"
      ]
     },
     "metadata": {},
     "output_type": "display_data"
    }
   ],
   "source": [
    "from sklearn.decomposition import PCA\n",
    "\n",
    "pca = PCA()\n",
    "pca.fit(train_X)\n",
    "plt.plot(pca.explained_variance_ratio_)\n",
    "plt.title(\"Explained Variance Ratio\")\n",
    "plt.xlabel(\"Principal Component\")\n",
    "plt.ylabel(\"Explained Variance\")"
   ]
  },
  {
   "cell_type": "code",
   "execution_count": 5,
   "id": "e1d39a33",
   "metadata": {},
   "outputs": [
    {
     "data": {
      "text/plain": [
       "(91, 59)"
      ]
     },
     "execution_count": 5,
     "metadata": {},
     "output_type": "execute_result"
    }
   ],
   "source": [
    "pca_train = pca.transform(train_X)\n",
    "pca_test = pca.transform(test_X)\n",
    "pca_val = pca.transform(val_X)\n",
    "\n",
    "pca_train.shape"
   ]
  },
  {
   "cell_type": "code",
   "execution_count": 6,
   "id": "1d68d27a",
   "metadata": {},
   "outputs": [],
   "source": [
    "from sklearn.linear_model import LogisticRegression\n",
    "\n",
    "scores = []\n",
    "\n",
    "for i in range(pca_train.shape[1] - 1):\n",
    "    reg = LogisticRegression().fit(pca_train[:,:i + 1], train_y)\n",
    "    preds = reg.predict(pca_test[:,:i+1])\n",
    "    scores.append(fbeta_score(test_y, preds, beta=2))"
   ]
  },
  {
   "cell_type": "code",
   "execution_count": 7,
   "id": "bb4b9aac",
   "metadata": {},
   "outputs": [
    {
     "name": "stdout",
     "output_type": "stream",
     "text": [
      "0\n"
     ]
    },
    {
     "data": {
      "image/png": "[encoded data removed]",
      "text/plain": [
       "<Figure size 640x480 with 1 Axes>"
      ]
     },
     "metadata": {},
     "output_type": "display_data"
    }
   ],
   "source": [
    "plt.plot(scores)\n",
    "print(np.argmax(scores))"
   ]
  },
  {
   "cell_type": "code",
   "execution_count": 8,
   "id": "f63f39ff",
   "metadata": {},
   "outputs": [
    {
     "name": "stdout",
     "output_type": "stream",
     "text": [
      "fbeta_score(val_y, preds, beta=2) = 0.9134615384615384\n",
      "precision_score(val_y, preds) = 0.7916666666666666\n",
      "recall_score(val_y, preds) = 0.95\n"
     ]
    }
   ],
   "source": [
    "reg = LogisticRegression().fit(pca_train[:,:20], train_y)\n",
    "preds = reg.predict(pca_val[:,:20])\n",
    "print(f\"{fbeta_score(val_y, preds, beta=2) = }\")\n",
    "print(f\"{precision_score(val_y, preds) = }\")\n",
    "print(f\"{recall_score(val_y, preds) = }\")"
   ]
  },
  {
   "cell_type": "code",
   "execution_count": 10,
   "id": "8d21887d",
   "metadata": {},
   "outputs": [
    {
     "name": "stdout",
     "output_type": "stream",
     "text": [
      "fbeta_score(val_y, preds, beta=2) = 0.8878504672897196\n",
      "precision_score(val_y, preds) = 0.7037037037037037\n",
      "recall_score(val_y, preds) = 0.95\n"
     ]
    }
   ],
   "source": [
    "reg = LogisticRegression().fit(pca_train[:,:10], train_y)\n",
    "preds = reg.predict(pca_val[:,:10])\n",
    "print(f\"{fbeta_score(val_y, preds, beta=2) = }\")\n",
    "print(f\"{precision_score(val_y, preds) = }\")\n",
    "print(f\"{recall_score(val_y, preds) = }\")"
   ]
  }
 ],
 "metadata": {
  "kernelspec": {
   "display_name": "Python 3",
   "language": "python",
   "name": "python3"
  },
  "language_info": {
   "codemirror_mode": {
    "name": "ipython",
    "version": 3
   },
   "file_extension": ".py",
   "mimetype": "text/x-python",
   "name": "python",
   "nbconvert_exporter": "python",
   "pygments_lexer": "ipython3",
   "version": "3.10.11"
  }
 },
 "nbformat": 4,
 "nbformat_minor": 5
}
